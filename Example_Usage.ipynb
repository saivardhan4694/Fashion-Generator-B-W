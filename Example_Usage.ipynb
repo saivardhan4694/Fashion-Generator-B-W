{
  "nbformat": 4,
  "nbformat_minor": 0,
  "metadata": {
    "colab": {
      "provenance": [],
      "authorship_tag": "ABX9TyNQEtlYrS00++I3U9/VQXZk",
      "include_colab_link": true
    },
    "kernelspec": {
      "name": "python3",
      "display_name": "Python 3"
    },
    "language_info": {
      "name": "python"
    }
  },
  "cells": [
    {
      "cell_type": "markdown",
      "metadata": {
        "id": "view-in-github",
        "colab_type": "text"
      },
      "source": [
        "<a href=\"https://colab.research.google.com/github/saivardhan4694/Fashion-Generator-B-W/blob/main/Example_Usage.ipynb\" target=\"_parent\"><img src=\"https://colab.research.google.com/assets/colab-badge.svg\" alt=\"Open In Colab\"/></a>"
      ]
    },
    {
      "cell_type": "code",
      "execution_count": 1,
      "metadata": {
        "id": "wFxbpEf9P0Nt"
      },
      "outputs": [],
      "source": [
        "# Example usage:\n",
        "import tensorflow as tf\n",
        "from tensorflow.keras.models import load_model\n",
        "\n",
        "# Load the trained generator model\n",
        "generator = load_model('paste the path to the downloaded generator model here.')\n",
        "\n",
        "# Generate random noise\n",
        "noise = tf.random.normal([1, 128])\n",
        "\n",
        "# Generate an image\n",
        "generated_image = generator(noise, training=False)\n",
        "\n",
        "# Display the image\n",
        "import matplotlib.pyplot as plt\n",
        "plt.imshow(generated_image[0])\n",
        "plt.show()"
      ]
    }
  ]
}